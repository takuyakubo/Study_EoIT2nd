{
 "cells": [
  {
   "cell_type": "markdown",
   "metadata": {},
   "source": [
    "## Entropy"
   ]
  },
  {
   "cell_type": "markdown",
   "metadata": {},
   "source": [
    "エントロピー(entropy)とは確率変数における不確実さ、不確定性の尺度"
   ]
  },
  {
   "cell_type": "markdown",
   "metadata": {},
   "source": [
    "### 記法"
   ]
  },
  {
   "cell_type": "markdown",
   "metadata": {},
   "source": [
    "$X$: 離散確率変数（ブロック体大文字)\n",
    "\n",
    "$\\mathcal{X}$: アルファベット = 確率変数が取りうる値(実現値)の集合 (筆記体大文字)\n",
    "\n",
    "$x$: 実現値 = 確率変数が取りうる値、アルファベットの要素（ブロック体小文字）\n",
    "\n",
    "$p(x) = {\\rm Pr}\\{ X = x \\}$: 確率変数$X$が実現値$x$を取る確率。確率質量関数。$\\forall x \\in \\mathcal{X}, p(x) \\geq 0$\n",
    "\n",
    "わかりにくい場合を除いて、実現値の文字によって関数の違いを表現する。e.g. $p(x), p(y)$\n",
    "\n",
    "わかりにくい場合は、確率変数を添字にすることで区別する。e.g. $p(x) = p_X(x), p(y) = p_Y(y)$"
   ]
  },
  {
   "cell_type": "markdown",
   "metadata": {},
   "source": [
    "### 定義\n",
    "\n",
    "離散確率変数$X$のエントロピー$H(X)$を次のように定義する。\n",
    "\n",
    "$H(X) := -\\sum_{x \\in \\mathcal{X}} p(x){\\rm log} p(x)$\n",
    "\n",
    "期待値の記号$E_p$(= pでの期待値)を用いて\n",
    "\n",
    "$H(X) := E_p[-{\\rm log} p(X)]$\n",
    "\n",
    "とも書ける。\n",
    "\n",
    "ここで、対数の底を強調したい場合は、例えばそれを2や$a$とすると、\n",
    "\n",
    "$H_2(X) := E_p[-{\\rm log}_2 p(X)]$\n",
    "\n",
    "$H_a(X) := E_p[-{\\rm log}_a p(X)]$\n",
    "\n",
    "と書くこととする。"
   ]
  },
  {
   "cell_type": "markdown",
   "metadata": {},
   "source": [
    "### 補題 2.1.1\n",
    "\n",
    "$H(X) \\geq 0$\n",
    "\n",
    "### 証明\n",
    "\n",
    "$\\forall p, x, 0 \\leq p(x) \\leq 1$なので、$\\forall p, x, -{\\rm log} p(x) \\geq 0$\n",
    "\n",
    "実現値が0以上になるものの期待値は0以上となるので補題は示される。"
   ]
  },
  {
   "cell_type": "markdown",
   "metadata": {},
   "source": [
    "### 補題 2.1.2\n",
    "\n",
    "$H_b(X) = ({\\rm log}_b a) H_a(X)$\n",
    "\n",
    "### 証明\n",
    "\n",
    "底の変換公式から、$\\forall p, x, {\\rm log}_b p(x) = ({\\rm log}_b a) {\\rm log}_a p(x) $\n",
    "\n",
    "これと期待値の線形性から、補題は示される。"
   ]
  },
  {
   "cell_type": "markdown",
   "metadata": {},
   "source": [
    "### 例 2.1.1\n",
    "\n",
    "アルファベットが2値である場合例えば、$\\mathcal{X} = \\{0, 1\\}$を考える。\n",
    "\n",
    "この時、$p(0) = p$とすれば、$p(1) = 1 - p$となる。\n",
    "\n",
    "この2値確率変数のときのエントロピー$H(X)$を特別に2値エントロピー(binary entropy)と呼び、$H(p)$と書く。つまり、\n",
    "\n",
    "$H(p) := -p {\\rm log} p - (1 - p) {\\rm log} (1 - p)$\n",
    "\n",
    "対数の底が2のときは、次に表すグラフのようになる。"
   ]
  },
  {
   "cell_type": "code",
   "execution_count": 1,
   "metadata": {
    "pycharm": {
     "name": "#%%\n"
    }
   },
   "outputs": [
    {
     "data": {
      "image/png": "[encoded data removed]",
      "text/plain": [
       "<Figure size 432x288 with 1 Axes>"
      ]
     },
     "metadata": {
      "needs_background": "light"
     },
     "output_type": "display_data"
    }
   ],
   "source": [
    "import matplotlib.pyplot as plt\n",
    "import numpy as np\n",
    "\n",
    "# 0割をさせないための処理\n",
    "num_split = 100\n",
    "start = 1 / num_split\n",
    "end = 1 - 1 / num_split\n",
    "x = np.linspace(start, end, num_split-2)\n",
    "y = - x * np.log2(x) - (1 - x) * np.log2(1 - x)\n",
    "\n",
    "plt.plot(x, y, label=\"binary entropy\")\n",
    "plt.xlabel('p')\n",
    "plt.ylabel('H(p)')\n",
    "\n",
    "plt.legend()\n",
    "plt.show()\n"
   ]
  }
 ],
 "metadata": {
  "kernelspec": {
   "display_name": "Python 3",
   "language": "python",
   "name": "python3"
  },
  "language_info": {
   "codemirror_mode": {
    "name": "ipython",
    "version": 3
   },
   "file_extension": ".py",
   "mimetype": "text/x-python",
   "name": "python",
   "nbconvert_exporter": "python",
   "pygments_lexer": "ipython3",
   "version": "3.7.4"
  },
  "pycharm": {
   "stem_cell": {
    "cell_type": "raw",
    "source": [],
    "metadata": {
     "collapsed": false
    }
   }
  }
 },
 "nbformat": 4,
 "nbformat_minor": 4
}