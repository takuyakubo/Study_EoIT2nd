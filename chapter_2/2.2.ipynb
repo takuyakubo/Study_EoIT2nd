{
 "cells": [
  {
   "cell_type": "markdown",
   "metadata": {},
   "source": [
    "## JOINT ENTROPY AND CONDITIONAL ENTROPY"
   ]
  },
  {
   "cell_type": "markdown",
   "metadata": {},
   "source": [
    "1つの確率変数ではなく、確率変数の組、例えば$(X, Y)$に関するエントロピーを考える。\n",
    "\n",
    "確率変数の組を1つの確率変数と捉えれば、1変数のときと変わらない。"
   ]
  },
  {
   "cell_type": "markdown",
   "metadata": {},
   "source": [
    "### 定義\n",
    "\n",
    "確率変数の組$(X, Y)$に対して、その結合エントロピー(joint entropy)を次のように定義する。\n",
    "\n",
    "$$\n",
    "H(X, Y) := -\\sum_{x \\in \\mathcal{X}, y \\in \\mathcal{Y}} p(x, y) \\log p(x, y) \n",
    "$$\n",
    "\n",
    "期待値を用いて、次のようにも表せる。\n",
    "\n",
    "$$\n",
    "H(X, Y) =E[-\\log p(X, Y)]\n",
    "$$"
   ]
  },
  {
   "cell_type": "markdown",
   "metadata": {},
   "source": [
    "### 記法\n",
    "\n",
    "確率変数 $X$の確率質量関数が$p(x)$であることを$X \\sim p$あるいは、$X \\sim p(x)$と書く。\n",
    "これは、「$X$が$p$に従う」などと読む。"
   ]
  },
  {
   "cell_type": "markdown",
   "metadata": {},
   "source": [
    "### 定義\n",
    "\n",
    "$(X, Y) \\sim p(x, y)$のとき、$X$で条件付けられた$Y$の条件付きエントロピー(conditional entropy)$H(Y|X)$は次のように定義される。\n",
    "\n",
    "$$\n",
    "\\begin{align}\n",
    "H(Y|X) &:=& \\sum_x p(x) H(Y|X = x)\\\\\n",
    "&=& \\sum_x p(x) \\sum_y -p(y|x) \\log p(y|x)\\\\\n",
    "&=& -\\sum_{x, y} p(x, y) \\log p(y|x)\\\\\n",
    "&=&E[-\\log p(Y|X)]\n",
    "\\end{align}\n",
    "$$\n",
    "\n"
   ]
  },
  {
   "cell_type": "markdown",
   "metadata": {},
   "source": [
    "### 定理 2.2.1 Chain rule\n",
    "\n",
    "$$\n",
    "H(X, Y) = H(X) + H(Y|X)\n",
    "$$"
   ]
  },
  {
   "cell_type": "markdown",
   "metadata": {},
   "source": [
    "### 証明\n",
    "\n",
    "$$\n",
    "\\begin{align}\n",
    "H(X, Y)&= &E_{X, Y}[-\\log p(X, Y)]\\\\\n",
    "&= &E_{X, Y}[-\\log (p(Y|X)p(X))] \\\\\n",
    "&= &E_{X, Y}[-\\log p(X)] + E_{X, Y}[-\\log p(Y|X)]\\\\\n",
    "&= &E_{X}[-\\log p(X)] + E_{X, Y}[-\\log p(Y|X)]\\\\\n",
    "&= &H(X) + H(Y|X)\n",
    "\\end{align}\n",
    "$$"
   ]
  },
  {
   "cell_type": "markdown",
   "metadata": {},
   "source": [
    "### 系\n",
    "\n",
    "$$\n",
    "H(X, Y|Z) = H(X|Z) + H(Y|X, Z)\n",
    "$$"
   ]
  },
  {
   "cell_type": "markdown",
   "metadata": {},
   "source": [
    "### 証明\n",
    "\n",
    "$$\n",
    "\\begin{align}\n",
    "H(X, Y|Z) &=& E_{X, Y, Z}[-\\log p(X, Y|Z)]\\\\\n",
    "&=& E_{X, Y, Z}[-\\log (p(X, Y, Z)/p(Z))]\\\\\n",
    "&=& E_{X, Y, Z}[-\\log (p(Y|X, Z)p(X, Z)/p(Z))] \\\\\n",
    "&=& E_{X, Y, Z}[-\\log (p(Y|X, Z)p(X |Z))] \\\\\n",
    "&=& E_{X, Y, Z}[-\\log p(X | Z)] + E_{X, Y, Z}[-\\log p(Y|X, Z)]\\\\\n",
    "&=& E_{X, Z}[-\\log p(X|Z)] + E_{X, Y, Z}[-\\log p(Y|X, Z)]\\\\\n",
    "&=& H(X|Z) + H(Y|X, Z)\n",
    "\\end{align}\n",
    "$$"
   ]
  },
  {
   "cell_type": "markdown",
   "metadata": {},
   "source": [
    "### 注意\n",
    "\n",
    "条件付きエントロピーは、条件付き確率によるため、$H(X|Y) \\neq H(Y|X)$であることに注意。"
   ]
  }
 ],
 "metadata": {
  "kernelspec": {
   "display_name": "Python 3",
   "language": "python",
   "name": "python3"
  },
  "language_info": {
   "codemirror_mode": {
    "name": "ipython",
    "version": 3
   },
   "file_extension": ".py",
   "mimetype": "text/x-python",
   "name": "python",
   "nbconvert_exporter": "python",
   "pygments_lexer": "ipython3",
   "version": "3.7.4"
  }
 },
 "nbformat": 4,
 "nbformat_minor": 4
}
