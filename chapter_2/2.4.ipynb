{
 "cells": [
  {
   "cell_type": "markdown",
   "metadata": {},
   "source": [
    "## RELATIONSHIP BETWEEN ENTROPY AND MUTUAL INFORMATION"
   ]
  },
  {
   "cell_type": "markdown",
   "metadata": {
    "pycharm": {
     "name": "#%% md\n"
    }
   },
   "source": [
    "相互情報量の定義から、次の等式が導き出せる。\n",
    "\n",
    "$$\n",
    "\\begin{align*}\n",
    "I(X;Y) &= H(X) - H(X|Y)\\\\\n",
    "&= H(Y) - H(Y|X)\\\\\n",
    "&= H(X) + H(Y) - H(X, Y)\n",
    "\\end{align*}\n",
    "$$\n",
    "\n",
    "また、条件付きエントロピー$H(X|X) = 0$であることから、\n",
    "\n",
    "$$\n",
    "\\begin{align*}\n",
    "I(X;X) = H(X) - H(X|X) = H(X)\n",
    "\\end{align*}\n",
    "$$\n",
    "\n",
    "も言える。"
   ]
  }
 ],
 "metadata": {
  "kernelspec": {
   "display_name": "Python 3",
   "language": "python",
   "name": "python3"
  },
  "language_info": {
   "codemirror_mode": {
    "name": "ipython",
    "version": 3
   },
   "file_extension": ".py",
   "mimetype": "text/x-python",
   "name": "python",
   "nbconvert_exporter": "python",
   "pygments_lexer": "ipython3",
   "version": "3.7.4"
  },
  "pycharm": {
   "stem_cell": {
    "cell_type": "raw",
    "source": [],
    "metadata": {
     "collapsed": false
    }
   }
  }
 },
 "nbformat": 4,
 "nbformat_minor": 4
}